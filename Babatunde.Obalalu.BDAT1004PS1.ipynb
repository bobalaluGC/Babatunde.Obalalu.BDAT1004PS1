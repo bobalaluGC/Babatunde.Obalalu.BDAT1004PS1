{
 "cells": [
  {
   "cell_type": "markdown",
   "id": "f6c437b9",
   "metadata": {},
   "source": [
    "<center><img src=\"Georgian College Logo.svg\"></center>\n",
    "<h1><center>BDAT 1004: Data Analytics Programming</center></h1>\n",
    "<h3><center>Problem Set 1: Questions</center></h3>\n",
    "<h3><center>Babatunde Obalalu - 200512782</center></h3>\n",
    "<h2><b>References</b></h2>\n",
    "<ol>\n",
    "    <li><b>C#</b>: https://learn.microsoft.com/en-us/dotnet/csharp/tour-of-csharp/</li>\n",
    "    <li><b>Python</b>:</li>\n",
    "    <ol>\n",
    "        <li>1. https://www.w3schools.com/python/default.asp</li>\n",
    "        <li>2. https://www.python.org/doc/</li>\n",
    "    </ol>\n",
    "</ol>"
   ]
  },
  {
   "cell_type": "markdown",
   "id": "4c8906e8-0ae5-411c-9611-fc36869ea5ab",
   "metadata": {},
   "source": [
    "* * *\n",
    "## C# Programming Language\n",
    "* * *"
   ]
  },
  {
   "cell_type": "markdown",
   "id": "141a1f4d-365b-41be-9f74-8e422ab53610",
   "metadata": {},
   "source": [
    "### **Question 1 (C#)**: What data type is each of the following?"
   ]
  },
  {
   "cell_type": "code",
   "execution_count": 40,
   "id": "200cb236-fb0d-4643-8cab-e28c43789183",
   "metadata": {},
   "outputs": [
    {
     "name": "stdout",
     "output_type": "stream",
     "text": [
      "The data type of 5 is Int32.\n"
     ]
    }
   ],
   "source": [
    "var i = 5; //declare a variable i and assign 5 to it\n",
    "\n",
    "//Display the data type of the statement above using the GetType() method and the Name field.\n",
    "Console.WriteLine(\"The data type of {0} is {1}.\", i, i.GetType().Name);"
   ]
  },
  {
   "cell_type": "code",
   "execution_count": 39,
   "id": "dde7c687-424b-49a3-91a0-752439ff6ee1",
   "metadata": {},
   "outputs": [
    {
     "name": "stdout",
     "output_type": "stream",
     "text": [
      "The data type of 5 is Int32.\n"
     ]
    }
   ],
   "source": [
    "var j = 5 - 0; //declare a variable j and assign an expression 5-0 to it for evaluation\n",
    "\n",
    "//Display the data type of the statement above using the GetType() method and the Name field.\n",
    "Console.WriteLine(\"The data type of {0} is {1}.\", j, j.GetType().Name);"
   ]
  },
  {
   "cell_type": "code",
   "execution_count": 38,
   "id": "fc6d48ca-4d52-499f-ada4-b5bc35f380ff",
   "metadata": {},
   "outputs": [
    {
     "name": "stdout",
     "output_type": "stream",
     "text": [
      "The data type of True is Boolean.\n"
     ]
    }
   ],
   "source": [
    "var k = 5 > 1; //declare a variable k and assign an expression 5>1 to it for evaluation\n",
    "\n",
    "//Display the data type of the statement above using the GetType() method and the Name field.\n",
    "Console.WriteLine(\"The data type of {0} is {1}.\", k, k.GetType().Name);"
   ]
  },
  {
   "cell_type": "code",
   "execution_count": 37,
   "id": "3abb48e2-7bd4-48c6-9188-59eb8cd332d4",
   "metadata": {},
   "outputs": [
    {
     "name": "stdout",
     "output_type": "stream",
     "text": [
      "The data type of 10 is Int32.\n"
     ]
    }
   ],
   "source": [
    "var m = 5 * 2; //declare a variable m and assign an expression 5*2 to it for evaluation\n",
    "\n",
    "//Display the data type of the statement above using the GetType() method and the Name field.\n",
    "Console.WriteLine(\"The data type of {0} is {1}.\", m, m.GetType().Name);"
   ]
  },
  {
   "cell_type": "code",
   "execution_count": 36,
   "id": "bcf0beb5-602a-4b0b-a4b6-9d1f8c312305",
   "metadata": {},
   "outputs": [
    {
     "name": "stderr",
     "output_type": "stream",
     "text": [
      "\n",
      "(1,9): error CS0019: Operator '*' cannot be applied to operands of type 'string' and 'int'\n",
      "\n"
     ]
    },
    {
     "ename": "Error",
     "evalue": "compilation error",
     "output_type": "error",
     "traceback": []
    }
   ],
   "source": [
    "var n = \"5\" * 2; //declare a variable n and assign an expression \"5\"*2 to it for evaluation\n",
    "\n",
    "//Display the data type of the statement above using the GetType() method and the Name field.\n",
    "Console.WriteLine(\"The data type of {0} is {1}.\", n, n.GetType().Name);\n",
    "\n",
    "/*\n",
    "This code gives a compilation error because '*' cannot be used with different data type\n",
    "\n",
    "(1,9): error CS0019: Operator '*' cannot be applied to operands of type 'string' and 'int'\n",
    "Error: compilation error\n",
    "*/"
   ]
  },
  {
   "cell_type": "code",
   "execution_count": 35,
   "id": "4f39cec1-5d9e-4270-a14f-2a684910b898",
   "metadata": {},
   "outputs": [
    {
     "name": "stdout",
     "output_type": "stream",
     "text": [
      "The data type of 52 is String.\n"
     ]
    }
   ],
   "source": [
    "var b = \"5\" + \"2\"; //declare a variable b and assign an expression \"5\"+\"2\" to it for evaluation\n",
    "\n",
    "//Display the data type of the statement above using the GetType() method and the Name field.\n",
    "Console.WriteLine(\"The data type of {0} is {1}.\", b, b.GetType().Name);"
   ]
  },
  {
   "cell_type": "code",
   "execution_count": 34,
   "id": "5f187cc8-279e-45fa-b783-7f6d7614fc08",
   "metadata": {},
   "outputs": [
    {
     "name": "stdout",
     "output_type": "stream",
     "text": [
      "The data type of 2 is Int32.\n"
     ]
    }
   ],
   "source": [
    "var c = 5 / 2; //declare a variable c and assign an expression 5/2 to it for evaluation\n",
    "\n",
    "//Display the data type of the statement above using the GetType() method and the Name field.\n",
    "Console.WriteLine(\"The data type of {0} is {1}.\", c, c.GetType().Name);"
   ]
  },
  {
   "cell_type": "code",
   "execution_count": 32,
   "id": "20547703-3b19-44f9-9195-ac57288df052",
   "metadata": {},
   "outputs": [
    {
     "name": "stdout",
     "output_type": "stream",
     "text": [
      "The data type of 1 is Int32.\n"
     ]
    }
   ],
   "source": [
    "var d = 5 % 2; //declare a variable d and assign an expression 5%2 to it for evaluation\n",
    "\n",
    "//Display the data type of the statement above using the GetType() method and the Name field.\n",
    "Console.WriteLine(\"The data type of {0} is {1}.\", d, d.GetType().Name);"
   ]
  },
  {
   "cell_type": "code",
   "execution_count": 31,
   "id": "10aac017-c25f-4add-8f39-35d1fd291974",
   "metadata": {},
   "outputs": [
    {
     "name": "stderr",
     "output_type": "stream",
     "text": [
      "\n",
      "(1,5): error CS0820: Cannot initialize an implicitly-typed variable with an array initializer\n",
      "\n"
     ]
    },
    {
     "ename": "Error",
     "evalue": "compilation error",
     "output_type": "error",
     "traceback": []
    }
   ],
   "source": [
    "var a = {5, 2, 1}; //declare a variable a and assign an array initializer {5,2,1} to it for evaluation\n",
    "\n",
    "//Display the data type of the statement above using the GetType() method and the Name field.\n",
    "Console.WriteLine(\"The data type of {0} is {1}.\", a, a.GetType().Name);\n",
    "\n",
    "/*\n",
    "This code gives a compilation error because variable a cannot be initialized as it is implicitly-typed\n",
    "\n",
    "(1,5): error CS0820: Cannot initialize an implicitly-typed variable with an array initializer\n",
    "Error: compilation error\n",
    "*/"
   ]
  },
  {
   "cell_type": "code",
   "execution_count": 29,
   "id": "9d8b7a72-4080-43ee-8e41-99ab6f30aa57",
   "metadata": {},
   "outputs": [
    {
     "name": "stdout",
     "output_type": "stream",
     "text": [
      "The data type of False is Boolean\n"
     ]
    }
   ],
   "source": [
    "var t = 5 == 3; //declare a variable t and assign an expression 5 == 3 to it for evaluation\n",
    "\n",
    "//Display the data type of the statement above using the GetType() method and the Name field.\n",
    "Console.WriteLine(\"The data type of {0} is {1}.\", t, t.GetType().Name);"
   ]
  },
  {
   "cell_type": "code",
   "execution_count": 30,
   "id": "b4fe35fd-3114-48f1-a26f-fe0739224568",
   "metadata": {},
   "outputs": [
    {
     "name": "stdout",
     "output_type": "stream",
     "text": [
      "The data type of 3.142 is Double.\n"
     ]
    }
   ],
   "source": [
    "var pi = 3.142; //declare a variable pi and assign its value 3.142 to it for evaluation\n",
    "\n",
    "//Display the data type of the statement above using the GetType() method and the Name field.\n",
    "Console.WriteLine(\"The data type of {0} is {1}.\", pi, pi.GetType().Name);"
   ]
  },
  {
   "cell_type": "markdown",
   "id": "63b9b771-a88b-4927-b6d2-e675fdf3c44e",
   "metadata": {},
   "source": [
    "### **Question 2 (C#)**: Write (and evaluate) C# expressions that answer these questions."
   ]
  },
  {
   "cell_type": "markdown",
   "id": "51379989-db48-4943-b0da-2199805706b3",
   "metadata": {},
   "source": [
    "**a. How many letters are there in 'Supercalifragilisticexpialidocious'?**"
   ]
  },
  {
   "cell_type": "code",
   "execution_count": 49,
   "id": "33f93b3d-deef-4137-a168-858873570abe",
   "metadata": {},
   "outputs": [
    {
     "name": "stdout",
     "output_type": "stream",
     "text": [
      "Output: The Supercalifragilisticexpialidocious has 34 letter(s).\n"
     ]
    }
   ],
   "source": [
    "string word = \"Supercalifragilisticexpialidocious\"; //declare a string variable word and assign a string value to it\n",
    "\n",
    "/*\n",
    "Ref.: https://learn.microsoft.com/en-us/dotnet/api/system.string.length?view=net-8.0\n",
    "The Length property returns the number of Char objects in a string value.\n",
    "*/\n",
    "\n",
    "//Console.WriteLine is used to display information and the result of evaluation to the user\n",
    "Console.WriteLine(\"Output: The {0} has {1} letter(s).\", word, word.Length);"
   ]
  },
  {
   "cell_type": "markdown",
   "id": "5870b7e4-4d09-4b2b-80f5-3d09f453fe32",
   "metadata": {},
   "source": [
    "**b. Does 'Supercalifragilisticexpialidocious' contain 'ice' as a substring?**"
   ]
  },
  {
   "cell_type": "code",
   "execution_count": 50,
   "id": "58d55bed-9c95-4320-8c0b-4a8f226d2d6f",
   "metadata": {},
   "outputs": [
    {
     "name": "stdout",
     "output_type": "stream",
     "text": [
      "Output: The Supercalifragilisticexpialidocious contains ice as substring.\n"
     ]
    }
   ],
   "source": [
    "string word = \"Supercalifragilisticexpialidocious\"; //declare a string variable word and assign a string value to it\n",
    "string subWord = \"ice\"; //declare a string variable subWord and assign a string value to it\n",
    "string message; //declare a string variable message to hold the result of the evaluation to be display\n",
    "\n",
    "/*\n",
    "Ref.: https://learn.microsoft.com/en-us/dotnet/api/system.string.contains?view=net-8.0\n",
    "Contains returns a value indicating whether a specified string occurs within this string, using the specified comparison rules.\n",
    "Console.WriteLine is used to display information and the result of evaluation to the user\n",
    "*/\n",
    "\n",
    "bool isContain = word.Contains(subWord); //declare a boolean variable isContain to hold a true or false evaluation result of the method Contains\n",
    "\n",
    "//An if statement is set up to check if the isContain is true or false, and execute the following statements that follows\n",
    "if ( ! isContain)\n",
    "{\n",
    "    message = \"does not contain \" + subWord;\n",
    "}\n",
    "else\n",
    "{\n",
    "    message = \"contains \" + subWord;\n",
    "}\n",
    "Console.WriteLine(\"Output: The {0} {1} as substring.\", word, message);\n",
    "//Console.WriteLine(\"Output: The {0} {1} as substring.\", word, word.Contains(subWord) ? \"contains \" + subWord : \"does not contain \" + subWord);"
   ]
  },
  {
   "cell_type": "markdown",
   "id": "074de8ce-7a56-40d6-8557-d327538e3d93",
   "metadata": {},
   "source": [
    "**c. Which of the following words is the longest: \n",
    "Supercalifragilisticexpialidocious, Honorificabilitudinitatibus, or\n",
    "Bababadalgharaghtakamminarronnkonn**?"
   ]
  },
  {
   "cell_type": "code",
   "execution_count": 51,
   "id": "2b0a6c1d-8a99-4d54-8033-3fd3b229f0cf",
   "metadata": {},
   "outputs": [
    {
     "name": "stdout",
     "output_type": "stream",
     "text": [
      "Output: Bababadalgharaghtakamminarronnkonn is the longest of all words with 34 letter(s).\n"
     ]
    }
   ],
   "source": [
    "//declare three string variable word1, word2, and word3, and assign string values too each of them\n",
    "string word1 = \"Supercalifragilisticexpialidocious\";\n",
    "string word2 = \"Honorificabilitudinitatibus\";\n",
    "string word3 = \"Bababadalgharaghtakamminarronnkonn\";\n",
    "string result; //declare a variable string result to store the result of the evaluated expression\n",
    "\n",
    "/*\n",
    "Ref.: https://learn.microsoft.com/en-us/dotnet/api/system.string.length?view=net-8.0\n",
    "The Length property returns the number of Char objects in a string value.\n",
    "Declare three integer variables len1, len2, and len3 to hold the length of each string variable declared above\n",
    "*/\n",
    "int len1 = word1.Length;\n",
    "int len2 = word2.Length;\n",
    "int len3 = word3.Length;\n",
    "\n",
    "//An if statement is set up to evaluate, check, and determine which of the string variables above is the longest of all\n",
    "if (len1 > len2)\n",
    "{\n",
    "    if (len1 > len3)\n",
    "    {\n",
    "        result = String.Format(\"{0} is the longest of all words with {1} letter(s).\", word1, len1);\n",
    "    }\n",
    "    else result = String.Format(\"{0} is the longest of all words with {1} letter(s).\", word3, len3);\n",
    "}\n",
    "else if (len2 > len3)\n",
    "{\n",
    "    result = String.Format(\"{0} is the longest of all words with {1} letter(s).\", word2, len2);\n",
    "}\n",
    "else result = String.Format(\"{0} is the longest of all words with {1} letter(s).\", word3, len3);\n",
    "\n",
    "Console.WriteLine(\"Output: {0}\", result);"
   ]
  },
  {
   "cell_type": "markdown",
   "id": "b126c3d4-a8e8-46db-849e-c92b5a4fa3ae",
   "metadata": {},
   "source": [
    "**d. Which composer comes first in the dictionary: 'Berlioz', 'Borodin', 'Brian', \n",
    "'Bartok', 'Bellini', 'Buxtehude', 'Bernstein'. Which one comes last?**"
   ]
  },
  {
   "cell_type": "code",
   "execution_count": 64,
   "id": "e1d089fa-6512-4a1d-a107-f25ca994fd23",
   "metadata": {},
   "outputs": [
    {
     "name": "stdout",
     "output_type": "stream",
     "text": [
      "Output: The composer that comes first and last is based on when wether the values of the dictionary are sorted.\n",
      "\n",
      "First Composer: Bartok\n",
      "Last Composer: Buxtehude\n",
      "\n",
      "4: Bartok\n",
      "5: Bellini\n",
      "1: Berlioz\n",
      "7: Bernstein\n",
      "2: Borodin\n",
      "3: Brian\n",
      "6: Buxtehude\n"
     ]
    }
   ],
   "source": [
    "/*\n",
    "Ref.: https://learn.microsoft.com/en-us/dotnet/api/system.collections.generic.dictionary-2?view=net-8.0\n",
    "Ref.: https://learn.microsoft.com/en-us/dotnet/api/system.collections.generic.sorteddictionary-2?view=net-8.0\n",
    "\n",
    "The Dictionary<TKey,TValue> generic class maps from a set of keys to a set of values.\n",
    "Each addition to the dictionary consists of a value and its associated key.\n",
    "*/\n",
    "Dictionary<int, string> dictionary = new Dictionary<int, string>();\n",
    "dictionary.Add(1, \"Berlioz\");\n",
    "dictionary.Add(2, \"Borodin\");\n",
    "dictionary.Add(3, \"Brian\");\n",
    "dictionary.Add(4, \"Bartok\");\n",
    "dictionary.Add(5, \"Bellini\");\n",
    "dictionary.Add(6, \"Buxtehude\");\n",
    "dictionary.Add(7, \"Bernstein\");\n",
    "\n",
    "var sortedDictionary = dictionary.OrderBy(pair => pair.Value).ToDictionary(pair => pair.Key, pair => pair.Value);\n",
    "\n",
    "//The First() and Last() methods are used to access the element of the dictionary as the name implies.\n",
    "//The Value and Key fields of the methods are used to retrieve their respective data.\n",
    "Console.WriteLine(\"Output: The composer that comes first and last is based on when wether the values of the dictionary are sorted.\");\n",
    "Console.WriteLine(\"\\nFirst Composer: {0}\\nLast Composer: {1}\\n\", sortedDictionary.First().Value, sortedDictionary.Last().Value);\n",
    "\n",
    "//The foreach is used to loop through the sorted dictionary, access the data, and evaluate it.\n",
    "//A foreach loop is also used exclusively to loop through elements in an array.\n",
    "foreach(KeyValuePair<int, string> element in sortedDictionary)\n",
    "{\n",
    "    Console.WriteLine(\"{0}: {1}\", element.Key, element.Value);\n",
    "}"
   ]
  },
  {
   "cell_type": "markdown",
   "id": "67ef2798-32aa-4ad8-80d2-058884bc2788",
   "metadata": {},
   "source": [
    "### **Question 3 (C#)**: Area of a triangle"
   ]
  },
  {
   "cell_type": "code",
   "execution_count": 80,
   "id": "c13b1b5b-ca12-485b-bad5-2f8d51061246",
   "metadata": {},
   "outputs": [
    {
     "name": "stdout",
     "output_type": "stream",
     "text": [
      ">>> Expected Output <<<\n",
      "Output: The area of triangle with sides 2,2,2 is 1.7320508075688772\n"
     ]
    }
   ],
   "source": [
    "//This triangleArea method is used to calculate the area of a triangle given its sides a, b, and c respectively.\n",
    "private double TriangleArea(int a, int b, int c)\n",
    "{\n",
    "    //declare s, sides, and area, as double data type to hold results and evaluation of expression\n",
    "    //These variables are local to this method\n",
    "    double s, sides, area; \n",
    "\n",
    "    s = (a + b + c) / 2; //This is an expression of the given parameters a,b,c, and assign to s variable\n",
    "    sides = (s * (s-a) * (s-b) * (s-c)); //The sides of a triangle are calculated and assigned to the sides variable\n",
    "    area = Math.Sqrt(sides); //The area of the triangle is calculated and assigned to the area variable\n",
    "\n",
    "    return area; //The area variable is returned to the calling section of this program.\n",
    "}\n",
    "\n",
    "//Another area variable is declared as double outside the method above.\n",
    "//Three sides a,b,c are declared as integer variables\n",
    "double area;\n",
    "int a, b, c;\n",
    "a = 2;\n",
    "b = 2;\n",
    "c = 2;\n",
    "\n",
    "//Here, the triangleArea method is called with three arguments 2,2,2 to the method above.\n",
    "area = TriangleArea(a, b, c);\n",
    "\n",
    "//Here \n",
    "Console.WriteLine(\">>> Expected Output <<<\");\n",
    "Console.WriteLine(\"Output: The area of triangle with sides {0},{1},{2} is {3}\", a, b, c, area);"
   ]
  },
  {
   "cell_type": "markdown",
   "id": "761a40bd-bb43-4b55-973c-4fa4d03d2461",
   "metadata": {},
   "source": [
    "### **Question 4 (C#)**: Write a program in C# Sharp to separate odd and even integers in separate arrays."
   ]
  },
  {
   "cell_type": "code",
   "execution_count": 83,
   "id": "a9c98c74-511c-4dd6-802b-fac7e024b9f8",
   "metadata": {},
   "outputs": [
    {
     "name": "stdout",
     "output_type": "stream",
     "text": [
      "\n",
      "Input 5 elements in the array:\n",
      "element - 0 : 25 \n",
      "element - 1 : 47 \n",
      "element - 2 : 42 \n",
      "element - 3 : 56 \n",
      "element - 4 : 32 \n",
      "\n",
      "Expected Output:\n",
      "The Even elements are:\n",
      "42 56 32 \n",
      "\n",
      "The Odd elements are:\n",
      "25 47 "
     ]
    }
   ],
   "source": [
    "/*\n",
    "Ref.: https://learn.microsoft.com/en-us/dotnet/api/system.object.equals?view=net-8.0\n",
    "Ref.: https://learn.microsoft.com/en-us/dotnet/api/system.array.length?view=net-8.0\n",
    "Ref.: https://learn.microsoft.com/en-us/dotnet/csharp/language-reference/builtin-types/arrays\n",
    "Ref.: https://learn.microsoft.com/en-us/dotnet/api/system.convert.toint32?view=net-8.0\n",
    "*/\n",
    "\n",
    "//OddEven method is declared to evaluate and separate odd and even integers into different arrays.\n",
    "private static int[] OddEven(int[] data, string op)\n",
    "{\n",
    "    int n = data.Length; //declares a n variable to hold the length of an array\n",
    "    int[] oddEvenData = new int[n]; //declares an array variable oddEvenData and sets its dimension to the value of n above\n",
    "\n",
    "    //This statement is set up to check the string op for which operation to perform [odd or even].\n",
    "    //It goes ahead to evaluate all entries and determine which value is odd or even,\n",
    "    //assign it to the variable, and then return it to the calling program.\n",
    "    if (op.Equals(\"even\")) //This section checks for even numbers and evaluates\n",
    "    {\n",
    "        for (int i = 0; i < n; i++)\n",
    "        {\n",
    "            if (data[i] % 2 == 0) oddEvenData[i] = data[i];\n",
    "        }\n",
    "    }\n",
    "    else if (op.Equals(\"odd\")) //This section checks for odd numbers and evaluates\n",
    "    {\n",
    "        for (int i = 0; i < n; i++)\n",
    "        {\n",
    "            if (data[i] % 2 != 0) oddEvenData[i] = data[i];\n",
    "        }\n",
    "    }\n",
    "\n",
    "    return oddEvenData; //Return the final results to the calling section of the program.\n",
    "}\n",
    "\n",
    "//Declares a variable n to hold the number of elements(s) t0 be stored in the array\n",
    "//This is done by setting the variable n manually\n",
    "int n = 5;\n",
    "\n",
    "//Display the number of elements the user wants in the array\n",
    "Console.WriteLine(\"\\nInput {0} elements in the array:\", n);\n",
    "\n",
    "//This section is used to check if the number of values required is greater than zero and then perform the operations\n",
    "if (n > 0) {\n",
    "    int i = 0; //declares a variable int i, assigned a value of o as a counter\n",
    "    int[] elements = new int[n]; //declares an array of variable elements and assigns a dimension n to it\n",
    "    int[] oddElements = new int[0], evenElements = new int[0]; //decares odd and even array variables with an empty dimension\n",
    "\n",
    "    //Each element is assigned to the elements variable manually\n",
    "    elements[0] = 25;\n",
    "    elements[1] = 47;\n",
    "    elements[2] = 42;\n",
    "    elements[3] = 56;\n",
    "    elements[4] = 32;\n",
    "\n",
    "    //This do...while loop is used to display the content of the elements array\n",
    "    do\n",
    "    {\n",
    "        Console.WriteLine(\"element - {0} : {1} \", i, elements[i]);\n",
    "        i += 1;\n",
    "    }\n",
    "    while (i < n);\n",
    "    \n",
    "    //Displays information about the outputs of the computation\n",
    "    Console.WriteLine(\"\\nExpected Output:\");\n",
    "    Console.WriteLine(\"The Even elements are:\");\n",
    "    evenElements = OddEven(elements, \"even\"); //Called the method OddEven with elements data and operation even to perform\n",
    "\n",
    "    //Loops through the evenElements to display the values in it\n",
    "    for (int k = 0; k < evenElements.Length; k++)\n",
    "    {\n",
    "        //Checks if there is an empty value in the array variable or not\n",
    "        //the display the content of the array variable and format the output\n",
    "        if (evenElements[k] != 0) Console.Write(\"{1} \", k, evenElements[k]); //Displays the content of the array variable and format the output\n",
    "    }\n",
    "\n",
    "    Console.WriteLine(\"\\n\\nThe Odd elements are:\");\n",
    "    oddElements = OddEven(elements, \"odd\"); //Called the method OddEven with elements data and operation odd to perform\n",
    "    \n",
    "    //Loops through the oddElements to display the values in it\n",
    "    for (int k = 0; k < oddElements.Length; k++)\n",
    "    {\n",
    "        //Checks if there is an empty value in the array variable or not\n",
    "        //the display the content of the array variable and format the output\n",
    "        if (oddElements[k] != 0) Console.Write(\"{1} \", k, oddElements[k]); //Displays the content of the array variable and format the output\n",
    "    }\n",
    "}\n",
    "else { //This is an alternative condition that is evaluated if the value of n <= 0\n",
    "    Console.WriteLine(\"Ouch! You have not entered a valid value. Try again.\");\n",
    "}"
   ]
  },
  {
   "cell_type": "markdown",
   "id": "073ba976-1f48-4c60-99a6-3bda1811ebcd",
   "metadata": {},
   "source": [
    "#### **The following code is another version written and executed on https://dotnetfiddle.net/**\n",
    "**Reason**: This is because this Jupyter platform could not execute the C# Console.ReadLine() statement as it should."
   ]
  },
  {
   "cell_type": "code",
   "execution_count": null,
   "id": "905dd6ee-2e6b-4d31-897f-6b4906c9dc5f",
   "metadata": {},
   "outputs": [],
   "source": [
    "using System;\n",
    "                    \n",
    "public class Program\n",
    "{\n",
    "    /*\n",
    "    Ref.: https://learn.microsoft.com/en-us/dotnet/api/system.object.equals?view=net-8.0\n",
    "    Ref.: https://learn.microsoft.com/en-us/dotnet/api/system.array.length?view=net-8.0\n",
    "    Ref.: https://learn.microsoft.com/en-us/dotnet/csharp/language-reference/builtin-types/arrays\n",
    "    Ref.: https://learn.microsoft.com/en-us/dotnet/api/system.convert.toint32?view=net-8.0\n",
    "    */\n",
    "\n",
    "    //OddEven method is declared to evaluate and separate odd and even integers into different arrays.\n",
    "    private static int[] OddEven(int[] data, string op)\n",
    "    {\n",
    "        int n = data.Length; //declares a n variable to hold the length of an array\n",
    "        int[] oddEvenData = new int[n]; //declares an array variable oddEvenData and sets its dimension to the value of n above\n",
    "    \n",
    "        //This statement is set up to check the string op for which operation to perform [odd or even].\n",
    "        //It goes ahead to evaluate all entries and determine which value is odd or even,\n",
    "        //assign it to the variable, and then return it to the calling program.\n",
    "        if (op.Equals(\"even\")) //This section checks for even numbers and evaluates\n",
    "        {\n",
    "            for (int i = 0; i < n; i++)\n",
    "            {\n",
    "                if (data[i] % 2 == 0) oddEvenData[i] = data[i];\n",
    "            }\n",
    "        }\n",
    "        else if (op.Equals(\"odd\")) //This section checks for odd numbers and evaluates\n",
    "        {\n",
    "            for (int i = 0; i < n; i++)\n",
    "            {\n",
    "                if (data[i] % 2 != 0) oddEvenData[i] = data[i];\n",
    "            }\n",
    "        }\n",
    "\n",
    "        return oddEvenData; //Return the final results to the calling section of the program.\n",
    "    }\n",
    "    \n",
    "    public static void Main()\n",
    "    {\n",
    "        //Allow the user to enter a dynamic number of values to be stored in the array\n",
    "        Console.Write(\"Input the number of element(s) to be stored in the array:\");\n",
    "        int n = Convert.ToInt32(Console.ReadLine()); //Reads the user input and stores it in an integer variable n\n",
    "\n",
    "        if (n > 0) {\n",
    "            int i = 0; //declares a variable int i, assigned a value of o as a counter\n",
    "            int[] elements = new int[n]; //declares an array of variable elements and assigns a dimension n to it\n",
    "            int[] oddElements = new int[0], evenElements = new int[0]; //decares odd and even array variables with an empty dimension\n",
    "            \n",
    "            do\n",
    "            {\n",
    "                //Enter each element one after the other at the prompt\n",
    "                Console.Write(\"Element: {0} : \", i);\n",
    "                elements[i] = Convert.ToInt32(Console.ReadLine()); //Read each element enter by the user and convert it to an integer\n",
    "                i += 1;\n",
    "            }\n",
    "            while (i < n);\n",
    "\n",
    "            Console.WriteLine(); //Print a newline\n",
    "            //Print out the elements in the array\n",
    "            Console.WriteLine(\"Input {0} elements in the array:\", n);\n",
    "            int j = 0;\n",
    "            for (j = 0; j < n; j++)\n",
    "            {\n",
    "                Console.WriteLine(\"Element - {0} : {1}\", j, elements[j]);\n",
    "            }\n",
    "\n",
    "            //Displays information about the outputs of the computation\n",
    "            Console.WriteLine(\"\\nExpected Output:\");\n",
    "            Console.WriteLine(\"The Even elements are:\");\n",
    "            evenElements = OddEven(elements, \"even\"); //Called the method OddEven with elements data and operation even to perform\n",
    "\n",
    "            //Loops through the evenElements to display the values in it\n",
    "            for (int k = 0; k < evenElements.Length; k++)\n",
    "            {\n",
    "                //Checks if there is an empty value in the array variable or not\n",
    "                //the display the content of the array variable and format the output\n",
    "                if (evenElements[k] != 0) Console.Write(\"{1} \", k, evenElements[k]); //Displays the content of the array variable and format the output\n",
    "            }\n",
    "\n",
    "            Console.WriteLine(\"\\n\\nThe Odd elements are:\");\n",
    "            oddElements = OddEven(elements, \"odd\"); //Called the method OddEven with elements data and operation odd to perform\n",
    "            \n",
    "            //Loops through the oddElements to display the values in it\n",
    "            for (int k = 0; k < oddElements.Length; k++)\n",
    "            {\n",
    "                //Checks if there is an empty value in the array variable or not\n",
    "                //the display the content of the array variable and format the output\n",
    "                if (oddElements[k] != 0) Console.Write(\"{1} \", k, oddElements[k]); //Displays the content of the array variable and format the output\n",
    "            }\n",
    "        }\n",
    "        else {//This is an alternative condition that is evaluated if the value of n <= 0\n",
    "            Console.WriteLine(\"Ouch! You have not entered a valid value. Try again.\");\n",
    "        }\n",
    "    }\n",
    "}"
   ]
  },
  {
   "cell_type": "markdown",
   "id": "dacf9b62-30e3-4d59-be13-4c223e5bee62",
   "metadata": {},
   "source": [
    "### **Question 5 (C#)** Inside function to determine if a point lies between rectangle corners."
   ]
  },
  {
   "cell_type": "markdown",
   "id": "0fef2038-2aa6-400a-bf13-c2ae71c56575",
   "metadata": {},
   "source": [
    "**a. Write a function inside(x, y, x1, y1, x2, y2) that returns True or False depending on whether the point(x, y) lies in the rectangle with lower left\n",
    "corner (x1, y1) and upper right corner (x2, y2)**."
   ]
  },
  {
   "cell_type": "code",
   "execution_count": 84,
   "id": "0c15dc15-fdbe-4536-9caf-2fe52e96c5ca",
   "metadata": {},
   "outputs": [],
   "source": [
    "//This method is declared to evaluates rectangle points and determine which points lies in it\n",
    "private static bool inside(double x, double y, double x1, double y1, double x2, double y2)\n",
    "{\n",
    "    bool evaluate; //declare an evaluate variable to hold the result of the computation\n",
    "    \n",
    "    if ((x1 <= x) && (x <= x2)) //evaluates x1 and x2 points\n",
    "    {\n",
    "        if ((y1 <= y) && (y <= y2)) //evaluates y1 and y2 points\n",
    "        {\n",
    "            evaluate = true;\n",
    "        } else evaluate = false;\n",
    "    } else evaluate = false;\n",
    "    \n",
    "    //evaluate = (((x1 <= x) && (x <= x2)) && ((y1 <= y) && (y <= y2))) ? true : false;\n",
    "    return evaluate; //return the value of the completed computation\n",
    "}"
   ]
  },
  {
   "cell_type": "markdown",
   "id": "145f78b2-830c-403d-9f67-9d31c707c90c",
   "metadata": {},
   "source": [
    "**b. Use function inside() from part a. to write an expression that tests whether the point (1,1) lies in both of the following rectangles: one with lower left corner (0.3, 0.5) and upper right corner (1.1, 0.7) and the other with lower left corner (0.5, 0.2) and upper right corner (1.1,2).**"
   ]
  },
  {
   "cell_type": "code",
   "execution_count": 86,
   "id": "916290e9-bcce-4942-80e5-dd047cd40ed4",
   "metadata": {},
   "outputs": [
    {
     "name": "stdout",
     "output_type": "stream",
     "text": [
      ">>> Expected Output <<<\n",
      "\n",
      ">>> inside(1, 1, 0, 0, 2, 3)\n",
      "True\n",
      "\n",
      ">>> inside(-1, -1, 0, 0, 2, 3)\n",
      "False\n",
      "\n",
      ">>> inside(1, 1, 0.3, 0.5, 1.1, 0.7)\n",
      "False\n",
      "\n",
      ">>> inside(1, 1, 0.5, 0.2, 1.1, 2)\n",
      "True\n"
     ]
    }
   ],
   "source": [
    "//This method is declared to evaluates rectangle points and determine which points lies in it\n",
    "private static bool inside(double x, double y, double x1, double y1, double x2, double y2)\n",
    "{\n",
    "    bool evaluate; //declare an evaluate variable to hold the result of the computation\n",
    "    \n",
    "    if ((x1 <= x) && (x <= x2)) //evaluates x1 and x2 points\n",
    "    {\n",
    "        if ((y1 <= y) && (y <= y2)) //evaluates y1 and y2 points\n",
    "        {\n",
    "            evaluate = true;\n",
    "        } else evaluate = false;\n",
    "    } else evaluate = false;\n",
    "    \n",
    "    //evaluate = (((x1 <= x) && (x <= x2)) && ((y1 <= y) && (y <= y2))) ? true : false;\n",
    "    return evaluate; //return the value of the completed computation\n",
    "}\n",
    "\n",
    "bool point; //declare a boolean variable point\n",
    "\n",
    "Console.WriteLine(\">>> Expected Output <<<\\n\");\n",
    "//inside(x,y,x1,y1,x2,y2)\n",
    "point = inside(1, 1, 0, 0, 2, 3); //manually set points and called the inside method to evaluate the points.\n",
    "Console.WriteLine(\">>> inside(1, 1, 0, 0, 2, 3)\\n{0}\\n\", point); //display the result after receiving the evaluated result from the inside method\n",
    "\n",
    "//inside(x,y,x1,y1,x2,y2)\n",
    "point = inside(-1, -1, 0, 0, 2, 3); //manually set points and called the inside method to evaluate the points.\n",
    "Console.WriteLine(\">>> inside(-1, -1, 0, 0, 2, 3)\\n{0}\\n\", point); //display the result after receiving the evaluated result from the inside method\n",
    "\n",
    "//inside(x,y,x1,y1,x2,y2)\n",
    "point = inside(1, 1, 0.3, 0.5, 1.1, 0.7); //manually set points and called the inside method to evaluate the points.\n",
    "Console.WriteLine(\">>> inside(1, 1, 0.3, 0.5, 1.1, 0.7)\\n{0}\\n\", point); //display the result after receiving the evaluated result from the inside method\n",
    "\n",
    "//inside(x,y,x1,y1,x2,y2)\n",
    "point = inside(1, 1, 0.5, 0.2, 1.1, 2); //manually set points and called the inside method to evaluate the points.\n",
    "Console.WriteLine(\">>> inside(1, 1, 0.5, 0.2, 1.1, 2)\\n{0}\", point); //display the result after receiving the evaluated result from the inside method"
   ]
  },
  {
   "cell_type": "markdown",
   "id": "8dbb3796-a70f-4169-a0f4-58aad68f6908",
   "metadata": {},
   "source": [
    "* * *\n",
    "## Python Programming Language\n",
    "* * *"
   ]
  },
  {
   "cell_type": "markdown",
   "id": "8c814db3-a7dd-4e76-b862-52b15b1a03ff",
   "metadata": {},
   "source": [
    "### **Question 6 (Python)**: Pig-Latin Transformation"
   ]
  },
  {
   "cell_type": "code",
   "execution_count": 2,
   "id": "7f95defd-e70c-406e-9c37-64d5f4d6e18a",
   "metadata": {},
   "outputs": [
    {
     "name": "stdout",
     "output_type": "stream",
     "text": [
      ">>> Expected Output <<<\n",
      "\n",
      ">>> pig(\"happy\")\n",
      " appyhay\n",
      "\n",
      ">>> pig(\"Enter\")\n",
      " Enterway\n",
      "\n",
      ">>> pig(\"other\")\n",
      " otherway\n",
      "\n",
      ">>> pig(\"pencil\")\n",
      " encilpay\n"
     ]
    }
   ],
   "source": [
    "# This method is declared to perform Pig-Latin transformation of a word passed to it as a parameter\n",
    "def pig(word):\n",
    "    \"\"\"\n",
    "    Ref.: https://docs.python.org/3/library/stdtypes.html#str.lower\n",
    "    Ref.: https://www.w3schools.com/python/ref_string_lower.asp\n",
    "    Retrieve the first character of the variable word and convert it to a lowercase\n",
    "    \"\"\"\n",
    "    firstChar = word[0].lower();\n",
    "    \n",
    "    vowel = \"aeiou\" # Declare a variable vowel and assign a default string value \"aeiou\"\n",
    "\n",
    "    \"\"\"\n",
    "    Ref.: https://docs.python.org/3/library/stdtypes.html#str.find\n",
    "    Ref.: https://www.w3schools.com/python/ref_string_find.asp\n",
    "    The find() method finds the first occurrence of the specified value and returns -1 if the value is not found\n",
    "    \"\"\"\n",
    "    index = vowel.find(firstChar)\n",
    "    if (index > -1): # Check if the variable index is greater than -1 or not, then evaluate the if statement condition\n",
    "        pigLatin = word + \"way\" # Append \"way\" to the end of the variable pigLatin if the if statement is true\n",
    "    else: # If the false, this section of this code will be evaluated\n",
    "        # Append the first character of the word and \"ay\" to the end of the variable pigLatin if the if statement is true\n",
    "        pigLatin = word[1:len(word)] + firstChar + \"ay\"\n",
    "\n",
    "    return pigLatin # Return the PigLatin word as the final result to the calling section of the program\n",
    "\n",
    "# Display information about the output\n",
    "print(\">>> Expected Output <<<\\n\")\n",
    "\n",
    "# Called the pig method with an arguments\n",
    "# pig(\"happy\")\n",
    "print(\">>> pig(\\\"happy\\\")\\n\", pig(\"happy\"))\n",
    "\n",
    "# Called the pig method with an arguments\n",
    "# pig(\"Enter\")\n",
    "print(\"\\n>>> pig(\\\"Enter\\\")\\n\",  pig(\"Enter\"))\n",
    "\n",
    "# Called the pig method with an arguments\n",
    "# pig(\"other\")\n",
    "print(\"\\n>>> pig(\\\"other\\\")\\n\", pig(\"other\"))\n",
    "\n",
    "# Called the pig method with an arguments\n",
    "# pig(\"pencil\")\n",
    "print(\"\\n>>> pig(\\\"pencil\\\")\\n\", pig(\"pencil\"))"
   ]
  },
  {
   "cell_type": "markdown",
   "id": "d13ecd36",
   "metadata": {},
   "source": [
    "### **Question 7 (Python)**: File bloodtype1.txt records blood-types of patients (A, B, AB, O or OO) at a clinic. Write a function bldcount() that reads the file with name and reports (i.e.,prints) how many patients there are in each bloodtype."
   ]
  },
  {
   "cell_type": "code",
   "execution_count": 4,
   "id": "cb0da637",
   "metadata": {},
   "outputs": [
    {
     "name": "stdout",
     "output_type": "stream",
     "text": [
      ">>> bldcount('bloodtype.txt')\n",
      "Blood Type Content: AB AB B O A A AB O AB A O O A A A O O O AB O A A A A A AB AB A AB O AB O A O O O AB O AB AB AB A A O \n",
      "\n",
      "::Expected Output::\n",
      "\n",
      "There are 28 patients of blood type A.\n",
      "There are 14 patients of blood type B.\n",
      "There are 13 patients of blood type AB.\n",
      "There are 15 patients of blood type O.\n",
      "There are 0 patients of blood type OO.\n"
     ]
    }
   ],
   "source": [
    "#This function is declared to read a file that contains blood type data,\n",
    "#report and prints how many patients there are in each blood type\n",
    "def bldcount(filename):\n",
    "    #Declare a string variable file\n",
    "    #Concatenate the file with the filename to make a file path\n",
    "    file = \"C:\\\\Users\\\\DELL\\\\Documents\\\\Grad Schools\\\\Canada\\\\Classes\\\\BDAT\\\\BDAT1004-24F-10910 - 24F Data Analytics Programming - 02\\\\Problem Set 1\\\\Datasets\\\\\" + filename\n",
    "    \n",
    "    #f = open(file, \"r\")\n",
    "    f = open(file, \"r\") #Open file to read its contents\n",
    "    content = f.read() #Read the actual content of the file\n",
    "    f.close() #Close the file \n",
    "\n",
    "    print(\"Blood Type Content:\", content) #Print the value of the variable content\n",
    "    #content = \"AB AB B O A A AB O AB A O O A A A O O O AB O A A A A A AB AB A AB O AB O A O O O AB O AB AB AB A A O\"\n",
    "    #c = content.split(\" \")\n",
    "    \n",
    "    print(\"::Expected Output::\\n\") #Display out information\n",
    "\n",
    "    \"\"\"\n",
    "    Ref.: https://docs.python.org/3/library/stdtypes.html#str.count\n",
    "    Ref.: https://www.w3schools.com/python/ref_string_count.asp\n",
    "    The count() method returns the number of times a specified value appears in the string.\n",
    "    \"\"\"\n",
    "    #Display the number of patients with each blood type by counting each blood type to determine how many times it appears\n",
    "    print(\"There are\", content.count(\"A\"), \"patients of blood type A.\")\n",
    "    print(\"There are\", content.count(\"B\"), \"patients of blood type B.\")\n",
    "    print(\"There are\", content.count(\"AB\"), \"patients of blood type AB.\")\n",
    "    print(\"There are\", content.count(\"O\"), \"patients of blood type O.\")\n",
    "    print(\"There are\", content.count(\"OO\"), \"patients of blood type OO.\")\n",
    "\n",
    "# Main Program Section #\n",
    "\n",
    "print(\">>> bldcount('bloodtype.txt')\") #Display sample function call as an output \n",
    "bldcount('bloodtype.txt') #Call the bldcount function with a file name as a parameter"
   ]
  },
  {
   "cell_type": "markdown",
   "id": "185da1e0",
   "metadata": {},
   "source": [
    "### **Question 8 (Python)**: Write a function curconv() that takes as input:\n",
    "<ol>\n",
    "    <li>A currency represented using a string (e.g., 'JPY' for the Japanese Yen or 'EUR' for the Euro)</li>\n",
    "    <li>An amount and then converts and returns the amount in US dollars.</li>\n",
    "</ol>"
   ]
  },
  {
   "cell_type": "code",
   "execution_count": 12,
   "id": "216346cd",
   "metadata": {},
   "outputs": [
    {
     "name": "stdin",
     "output_type": "stream",
     "text": [
      "Enter an amount: 120\n"
     ]
    },
    {
     "name": "stdout",
     "output_type": "stream",
     "text": [
      ">>> curconv('EUR', 100):\n",
      " 147.558528\n",
      "\n",
      ">>> curconv('JPY', 100):\n",
      " 1.4896812\n",
      "\n",
      ">>> curconv('AUD', 100):\n",
      " 124.141884\n",
      "\n",
      ">>> curconv('CHF', 100):\n",
      " 122.848968\n",
      "\n",
      ">>> curconv('CNY', 100):\n",
      " 18.602112\n"
     ]
    }
   ],
   "source": [
    "\"\"\"\n",
    "Ref.: https://docs.python.org/3/library/shlex.html#shlex.split\n",
    "Ref.: https://www.w3schools.com/python/ref_string_split.asp\n",
    "Ref.: https://docs.python.org/3/library/dis.html#opcode-LIST_APPEND\n",
    "Ref.: https://www.w3schools.com/python/ref_list_append.asp\n",
    "Ref.: https://www.w3schools.com/python/python_arrays.asp\n",
    "Ref,: https://docs.python.org/3/tutorial/datastructures.html\n",
    "Ref.: https://docs.python.org/3/tutorial/inputoutput.html\n",
    "Ref.: https://www.w3schools.com/python/python_file_open.asp\n",
    "The split() method splits a string into a list. A separator can be specified, the default separator is any whitespace.\n",
    "The append() method appends an element to the end of the list.\n",
    "\"\"\"\n",
    "def curconv(currency, amount):\n",
    "    USDRates = 0 #Declare a variable USDRates which serves as the final rate with a default value of 0\n",
    "    currencySymbols = [] #Declare an array of variable currencySYmbols to hold all currency symbols\n",
    "    currencyRates = [] #Declare an array of variable currencyRates to hold all currency rates\n",
    "    currencyCountries = [] #Declare an array of variable currencyCountries to hold all currency country\n",
    "    \n",
    "    #Declare a string variable fileName and file to store the filename and the file\n",
    "    #Concatenate the file path with the filename to make a file\n",
    "    fileName = \"currencies.txt\"\n",
    "    file = \"C:\\\\Users\\\\DELL\\\\Documents\\\\Grad Schools\\\\Canada\\\\Classes\\\\BDAT\\\\BDAT1004-24F-10910 - 24F Data Analytics Programming - 02\\\\Problem Set 1\\\\Datasets\\\\\" + fileName\n",
    "    \n",
    "    f = open(file, \"r\") #Open file to read its contents\n",
    "    #content = f.readline() #Read the actual content of the file\n",
    "\n",
    "    #Displays the content of the currency file\n",
    "    #print(\"List of Currencies Rates\")\n",
    "    #print(content)\n",
    "    \n",
    "    #This code section loops through the content of file f and reads each line in the file one at a time\n",
    "    for x in f:\n",
    "        currencies = x.split(\"\\t\") #Split each line by \"\\t\" tab escape character using a split() function and store it in a currencies variable\n",
    "        currencySymbols.append(currencies[0]) #Retrieve each symbol array value of the currencies variable using its index value\n",
    "        currencyRates.append(currencies[1]) #Retrieve each rate array value of the currencies variable using its index value\n",
    "        currencyCountries.append(currencies[2]) #Retrieve each country array value of the currencies variable using its index value\n",
    "    f.close() #Close the file\n",
    "    \n",
    "    #Search for the currency parameter if it exists in the array of currency symbols\n",
    "    #And stores it in a variable index\n",
    "    index = currencySymbols.index(currency)\n",
    "\n",
    "    #Use the index value to retrieve the currency rate of the currency symbol, and store it in a variable rate\n",
    "    #Convert the rate to float data type for easy computation\n",
    "    rate = float(currencyRates[index])\n",
    "    USDRates = amount * rate #Multiply the amount parameter and the rate to get the USD rate value\n",
    "    #print(index, currency, rate, currencyCountries[index], rate)\n",
    "    return USDRates #Return the computed USD rate to the section of the calling program\n",
    "\n",
    "\"\"\"\"\"\"\"\"\"\"\"\"\"\"\"\"\"\"\"\"\"\n",
    "Main Section Program\n",
    "\"\"\"\"\"\"\"\"\"\"\"\"\"\"\"\"\"\"\"\"\"\n",
    "#Enter the amount of your currency\n",
    "amount = int(input('Enter an amount:'))\n",
    "\n",
    "# print(\">>> curconv('EUR', 100)\")\n",
    "# 122.96544\n",
    "#Call the curconv function which return the final computation, and display the result to the user\n",
    "print(\">>> curconv('EUR', 100):\\n\", curconv('EUR', amount))\n",
    "\n",
    "# print(\">>> curconv('JPY', 100)\")\n",
    "# 1.241401\n",
    "#Call the curconv function which return the final computation, and display the result to the user\n",
    "print(\"\\n>>> curconv('JPY', 100):\\n\", curconv('JPY', amount))\n",
    "\n",
    "# print(\">>> curconv('AUD', 100)\")\n",
    "# 103.45157\n",
    "#Call the curconv function which return the final computation, and display the result to the user\n",
    "print(\"\\n>>> curconv('AUD', 100):\\n\", curconv('AUD', amount))\n",
    "\n",
    "# print(\">>> curconv('CHF', 100)\")\n",
    "# 102.37414\n",
    "#Call the curconv function which return the final computation, and display the result to the user\n",
    "print(\"\\n>>> curconv('CHF', 100):\\n\", curconv('CHF', amount))\n",
    "\n",
    "# print(\">>> curconv('CNY', 100)\")\n",
    "# 15.50176\n",
    "#Call the curconv function which return the final computation, and display the result to the user\n",
    "print(\"\\n>>> curconv('CNY', 100):\\n\", curconv('CNY', amount))"
   ]
  },
  {
   "cell_type": "markdown",
   "id": "accdd068",
   "metadata": {},
   "source": [
    "### **Question 9 (Python)**: Each of the following will cause an exception (an error). Identify what type of exception each will cause."
   ]
  },
  {
   "cell_type": "markdown",
   "id": "c67174df",
   "metadata": {},
   "source": [
    "<p>a. Trying to add incompatible variables, as in adding 6 + ‘a’.</p>\n",
    "<span><b>TypeError</b>: unsupported operand type(s) for +: 'int' and 'str'</span>"
   ]
  },
  {
   "cell_type": "code",
   "execution_count": 13,
   "id": "1d32645a",
   "metadata": {},
   "outputs": [
    {
     "ename": "TypeError",
     "evalue": "unsupported operand type(s) for +: 'int' and 'str'",
     "output_type": "error",
     "traceback": [
      "\u001b[1;31m---------------------------------------------------------------------------\u001b[0m",
      "\u001b[1;31mTypeError\u001b[0m                                 Traceback (most recent call last)",
      "Cell \u001b[1;32mIn[13], line 1\u001b[0m\n\u001b[1;32m----> 1\u001b[0m \u001b[38;5;28mprint\u001b[39m(\u001b[38;5;241;43m6\u001b[39;49m\u001b[43m \u001b[49m\u001b[38;5;241;43m+\u001b[39;49m\u001b[43m \u001b[49m\u001b[38;5;124;43m'\u001b[39;49m\u001b[38;5;124;43ma\u001b[39;49m\u001b[38;5;124;43m'\u001b[39;49m)\n",
      "\u001b[1;31mTypeError\u001b[0m: unsupported operand type(s) for +: 'int' and 'str'"
     ]
    }
   ],
   "source": [
    "print(6 + 'a')"
   ]
  },
  {
   "cell_type": "markdown",
   "id": "5e851757",
   "metadata": {},
   "source": [
    "<p>b. Referring to the 12th item of a list that has only 10 items.</p>\n",
    "<span><b>IndexError</b>: list index out of range</span>"
   ]
  },
  {
   "cell_type": "code",
   "execution_count": 113,
   "id": "a5c03e74",
   "metadata": {},
   "outputs": [
    {
     "ename": "IndexError",
     "evalue": "list index out of range",
     "output_type": "error",
     "traceback": [
      "\u001b[1;31m---------------------------------------------------------------------------\u001b[0m",
      "\u001b[1;31mIndexError\u001b[0m                                Traceback (most recent call last)",
      "Cell \u001b[1;32mIn[113], line 2\u001b[0m\n\u001b[0;32m      1\u001b[0m items \u001b[38;5;241m=\u001b[39m [\u001b[38;5;241m10\u001b[39m]\n\u001b[1;32m----> 2\u001b[0m \u001b[38;5;28mprint\u001b[39m(\u001b[43mitems\u001b[49m\u001b[43m[\u001b[49m\u001b[38;5;241;43m12\u001b[39;49m\u001b[43m]\u001b[49m)\n",
      "\u001b[1;31mIndexError\u001b[0m: list index out of range"
     ]
    }
   ],
   "source": [
    "items = [10]\n",
    "print(items[12])"
   ]
  },
  {
   "cell_type": "markdown",
   "id": "2b32cf05",
   "metadata": {},
   "source": [
    "<p>c. Using a value that is out of range for a function’s input, such as calling math.sqrt(-1.0)</p>\n",
    "<span><b>ValueError</b>: math domain error</span>"
   ]
  },
  {
   "cell_type": "code",
   "execution_count": 15,
   "id": "edc9045d",
   "metadata": {},
   "outputs": [
    {
     "ename": "ValueError",
     "evalue": "math domain error",
     "output_type": "error",
     "traceback": [
      "\u001b[1;31m---------------------------------------------------------------------------\u001b[0m",
      "\u001b[1;31mValueError\u001b[0m                                Traceback (most recent call last)",
      "Cell \u001b[1;32mIn[15], line 5\u001b[0m\n\u001b[0;32m      2\u001b[0m \u001b[38;5;28;01mdef\u001b[39;00m \u001b[38;5;21minput\u001b[39m():\n\u001b[0;32m      3\u001b[0m     \u001b[38;5;28;01mreturn\u001b[39;00m math\u001b[38;5;241m.\u001b[39msqrt(\u001b[38;5;241m-\u001b[39m\u001b[38;5;241m1.0\u001b[39m)\n\u001b[1;32m----> 5\u001b[0m \u001b[38;5;28mprint\u001b[39m(\u001b[38;5;28;43minput\u001b[39;49m\u001b[43m(\u001b[49m\u001b[43m)\u001b[49m)\n",
      "Cell \u001b[1;32mIn[15], line 3\u001b[0m, in \u001b[0;36minput\u001b[1;34m()\u001b[0m\n\u001b[0;32m      2\u001b[0m \u001b[38;5;28;01mdef\u001b[39;00m \u001b[38;5;21minput\u001b[39m():\n\u001b[1;32m----> 3\u001b[0m     \u001b[38;5;28;01mreturn\u001b[39;00m \u001b[43mmath\u001b[49m\u001b[38;5;241;43m.\u001b[39;49m\u001b[43msqrt\u001b[49m\u001b[43m(\u001b[49m\u001b[38;5;241;43m-\u001b[39;49m\u001b[38;5;241;43m1.0\u001b[39;49m\u001b[43m)\u001b[49m\n",
      "\u001b[1;31mValueError\u001b[0m: math domain error"
     ]
    }
   ],
   "source": [
    "import math\n",
    "def input():\n",
    "    return math.sqrt(-1.0)\n",
    "    \n",
    "print(input())"
   ]
  },
  {
   "cell_type": "markdown",
   "id": "22d2c62c",
   "metadata": {},
   "source": [
    "<p>d. Using an undeclared variable, such as print(x) when x has not been defined.</p>\n",
    "<span><b>NameError</b>: name 'x' is not defined</span>"
   ]
  },
  {
   "cell_type": "code",
   "execution_count": 16,
   "id": "50c5052e",
   "metadata": {},
   "outputs": [
    {
     "ename": "NameError",
     "evalue": "name 'x' is not defined",
     "output_type": "error",
     "traceback": [
      "\u001b[1;31m---------------------------------------------------------------------------\u001b[0m",
      "\u001b[1;31mNameError\u001b[0m                                 Traceback (most recent call last)",
      "Cell \u001b[1;32mIn[16], line 4\u001b[0m\n\u001b[0;32m      2\u001b[0m z \u001b[38;5;241m=\u001b[39m \u001b[38;5;241m6\u001b[39m\n\u001b[0;32m      3\u001b[0m c \u001b[38;5;241m=\u001b[39m y \u001b[38;5;241m+\u001b[39m z\n\u001b[1;32m----> 4\u001b[0m \u001b[38;5;28mprint\u001b[39m(\u001b[43mx\u001b[49m)\n",
      "\u001b[1;31mNameError\u001b[0m: name 'x' is not defined"
     ]
    }
   ],
   "source": [
    "y = 4\n",
    "z = 6\n",
    "c = y + z\n",
    "print(x)"
   ]
  },
  {
   "cell_type": "markdown",
   "id": "bf7f0e53",
   "metadata": {},
   "source": [
    "<p>e. Trying to open a file that does not exist, such as mistyping the file name or looking in the wrong directory.</p>\n",
    "<span><b>FileNotFoundError</b>: [Errno 2] No such file or directory: 'Z:\\\\non-exist-currencies.txt'</span>"
   ]
  },
  {
   "cell_type": "code",
   "execution_count": 17,
   "id": "fb0aa99d",
   "metadata": {},
   "outputs": [
    {
     "ename": "FileNotFoundError",
     "evalue": "[Errno 2] No such file or directory: 'Z:\\\\non-exist-currencies.txt'",
     "output_type": "error",
     "traceback": [
      "\u001b[1;31m---------------------------------------------------------------------------\u001b[0m",
      "\u001b[1;31mFileNotFoundError\u001b[0m                         Traceback (most recent call last)",
      "Cell \u001b[1;32mIn[17], line 1\u001b[0m\n\u001b[1;32m----> 1\u001b[0m f \u001b[38;5;241m=\u001b[39m \u001b[38;5;28;43mopen\u001b[39;49m\u001b[43m(\u001b[49m\u001b[38;5;124;43m\"\u001b[39;49m\u001b[38;5;124;43mZ:\u001b[39;49m\u001b[38;5;130;43;01m\\\\\u001b[39;49;00m\u001b[38;5;124;43mnon-exist-currencies.txt\u001b[39;49m\u001b[38;5;124;43m\"\u001b[39;49m\u001b[43m,\u001b[49m\u001b[43m \u001b[49m\u001b[38;5;124;43m\"\u001b[39;49m\u001b[38;5;124;43mr\u001b[39;49m\u001b[38;5;124;43m\"\u001b[39;49m\u001b[43m)\u001b[49m\n\u001b[0;32m      2\u001b[0m \u001b[38;5;28mprint\u001b[39m(f\u001b[38;5;241m.\u001b[39mread())\n",
      "File \u001b[1;32m~\\AppData\\Roaming\\Python\\Python312\\site-packages\\IPython\\core\\interactiveshell.py:324\u001b[0m, in \u001b[0;36m_modified_open\u001b[1;34m(file, *args, **kwargs)\u001b[0m\n\u001b[0;32m    317\u001b[0m \u001b[38;5;28;01mif\u001b[39;00m file \u001b[38;5;129;01min\u001b[39;00m {\u001b[38;5;241m0\u001b[39m, \u001b[38;5;241m1\u001b[39m, \u001b[38;5;241m2\u001b[39m}:\n\u001b[0;32m    318\u001b[0m     \u001b[38;5;28;01mraise\u001b[39;00m \u001b[38;5;167;01mValueError\u001b[39;00m(\n\u001b[0;32m    319\u001b[0m         \u001b[38;5;124mf\u001b[39m\u001b[38;5;124m\"\u001b[39m\u001b[38;5;124mIPython won\u001b[39m\u001b[38;5;124m'\u001b[39m\u001b[38;5;124mt let you open fd=\u001b[39m\u001b[38;5;132;01m{\u001b[39;00mfile\u001b[38;5;132;01m}\u001b[39;00m\u001b[38;5;124m by default \u001b[39m\u001b[38;5;124m\"\u001b[39m\n\u001b[0;32m    320\u001b[0m         \u001b[38;5;124m\"\u001b[39m\u001b[38;5;124mas it is likely to crash IPython. If you know what you are doing, \u001b[39m\u001b[38;5;124m\"\u001b[39m\n\u001b[0;32m    321\u001b[0m         \u001b[38;5;124m\"\u001b[39m\u001b[38;5;124myou can use builtins\u001b[39m\u001b[38;5;124m'\u001b[39m\u001b[38;5;124m open.\u001b[39m\u001b[38;5;124m\"\u001b[39m\n\u001b[0;32m    322\u001b[0m     )\n\u001b[1;32m--> 324\u001b[0m \u001b[38;5;28;01mreturn\u001b[39;00m \u001b[43mio_open\u001b[49m\u001b[43m(\u001b[49m\u001b[43mfile\u001b[49m\u001b[43m,\u001b[49m\u001b[43m \u001b[49m\u001b[38;5;241;43m*\u001b[39;49m\u001b[43margs\u001b[49m\u001b[43m,\u001b[49m\u001b[43m \u001b[49m\u001b[38;5;241;43m*\u001b[39;49m\u001b[38;5;241;43m*\u001b[39;49m\u001b[43mkwargs\u001b[49m\u001b[43m)\u001b[49m\n",
      "\u001b[1;31mFileNotFoundError\u001b[0m: [Errno 2] No such file or directory: 'Z:\\\\non-exist-currencies.txt'"
     ]
    }
   ],
   "source": [
    "f = open(\"Z:\\\\non-exist-currencies.txt\", \"r\")\n",
    "print(f.read())"
   ]
  },
  {
   "cell_type": "markdown",
   "id": "0b1c50c6",
   "metadata": {},
   "source": [
    "### **Question 10 (Python)**: Write a function called frequencies() that takes a string as its only parameter, and returns a list of integers, showing the number of times each character appears in the text. Your function may ignore any characters that are not in letters."
   ]
  },
  {
   "cell_type": "code",
   "execution_count": 3,
   "id": "6a80e18c",
   "metadata": {},
   "outputs": [
    {
     "name": "stdin",
     "output_type": "stream",
     "text": [
      "Enter a text of your choice:  characters\n"
     ]
    },
    {
     "name": "stdout",
     "output_type": "stream",
     "text": [
      "\n",
      "Expected Output:\n",
      ">>> frequencies(message):\n",
      "\n",
      "c  ->  2\n",
      "h  ->  1\n",
      "a  ->  2\n",
      "r  ->  2\n",
      "t  ->  1\n",
      "e  ->  1\n",
      "s  ->  1\n"
     ]
    }
   ],
   "source": [
    "\"\"\"\n",
    "Ref.: https://www.w3schools.com/python/ref_list_append.asp\n",
    "Ref.: https://docs.python.org/3/tutorial/datastructures.html\n",
    "Ref.: https://www.w3schools.com/python/python_lists.asp\n",
    "\n",
    "This frequencies function is defined to take a string as its only parameter,\n",
    "and returns a list of integers, showing the number of times each character appears\n",
    "in the text. Your function may ignore any characters that are not in letters.\n",
    "\"\"\"\n",
    "def frequencies(text):\n",
    "    letters = \"abcdefghijklmnopqrstuvwxyz\" #Declare a variable letter and assign a value to it\n",
    "    #Declare a text variable\n",
    "    #Replace the text parameter white space content with empty string, and assign it to the text variable\n",
    "    text = text.replace(\" \", \"\")\n",
    "\n",
    "    #Declares array variables to be used for computation\n",
    "    textArray = []\n",
    "    freqArray = []\n",
    "    charArray = []\n",
    "\n",
    "    #This section loops through each character in the text variable and appends it to the textArray variable\n",
    "    for char in text:\n",
    "        textArray.append(char)\n",
    "\n",
    "    #Ref.: https://www.w3schools.com/python/ref_dictionary_fromkeys.asp\n",
    "    #Ref.: https://python-reference.readthedocs.io/en/latest/docs/dict/fromkeys.html\n",
    "    #The fromkeys() method returns a dictionary with the specified keys and the specified value.\n",
    "    charArray = list(dict.fromkeys(textArray))\n",
    "\n",
    "    #This section loops through each character in the charArray variable and counts the total number of each character in the textArray variable\n",
    "    #Stores the count for each character in the freqArray variable\n",
    "    for char in charArray:\n",
    "        freqArray.append(textArray.count(char))\n",
    "        \n",
    "    return textArray, charArray, freqArray #Returns the charArray and freqArray to the section of the calling program\n",
    "\n",
    "\"\"\"\n",
    "Main Section Program\n",
    "\n",
    ">>> frequencies('The quick red fox got bored and went home.')\n",
    "[1, 1, 1, 3, 5, 1, 1, 2, 1, 0, 1, 0, 1, 2, 4, 0, 1, 2, 0, 2,\n",
    "1, 0, 1, 1, 0, 0]\n",
    ">>> frequencies('apple')\n",
    "\"\"\"\n",
    "\n",
    "#Display a prompt that allows the user to enter a text of choice\n",
    "message = input(\"Enter a text of your choice: \")\n",
    "\n",
    "#Display a formatted output to the user\n",
    "print(\"\\nExpected Output:\")\n",
    "print(\">>> frequencies(message):\\n\")\n",
    "\n",
    "#Call the frequencies function with a message argument\n",
    "#Assign the result of the function to the data, chars and freqs variables which will be used to display the final output\n",
    "data, chars, freqs = frequencies(message)\n",
    "\n",
    "#Print out each character and their frequencies\n",
    "i = 0 #Initialize a variable i to zero\n",
    "while i < len(chars): #While loops through characters and frequencies array variables\n",
    "    print(chars[i], \" -> \", freqs[i]) #Print each character and its equivalent frequency\n",
    "    i += 1 #Increase variable i by 1 each time the while loop"
   ]
  },
  {
   "cell_type": "code",
   "execution_count": null,
   "id": "85b007e8-2c10-41a2-b444-f7cfa53ab12f",
   "metadata": {},
   "outputs": [],
   "source": []
  }
 ],
 "metadata": {
  "kernelspec": {
   "display_name": "Python 3 (ipykernel)",
   "language": "python",
   "name": "python3"
  },
  "language_info": {
   "codemirror_mode": {
    "name": "ipython",
    "version": 3
   },
   "file_extension": ".py",
   "mimetype": "text/x-python",
   "name": "python",
   "nbconvert_exporter": "python",
   "pygments_lexer": "ipython3",
   "version": "3.12.4"
  },
  "polyglot_notebook": {
   "kernelInfo": {
    "defaultKernelName": "csharp",
    "items": [
     {
      "aliases": [],
      "name": "csharp"
     }
    ]
   }
  }
 },
 "nbformat": 4,
 "nbformat_minor": 5
}
